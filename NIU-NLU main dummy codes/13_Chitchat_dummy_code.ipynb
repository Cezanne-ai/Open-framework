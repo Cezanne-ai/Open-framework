{
  "nbformat": 4,
  "nbformat_minor": 0,
  "metadata": {
    "colab": {
      "name": "13. Chitchat dummy code",
      "provenance": [],
      "collapsed_sections": []
    },
    "kernelspec": {
      "name": "python3",
      "display_name": "Python 3"
    },
    "language_info": {
      "name": "python"
    }
  },
  "cells": [
    {
      "cell_type": "markdown",
      "metadata": {
        "id": "VFZCgg7TO-6N"
      },
      "source": [
        "Our intention is not to build a chit chat bot because we don’t believe chit chat is fundamentally a conversation, on one hand, and on the other the bot should not replace the need of a human presence in our life. \n",
        "\n",
        "At the same time, in every conversation (even with an expert) chit chats or emotional reactions are for sure present. As we are working in a limited datasets environment and in an expertise domain, we will restrict the conversation to two consecutive turns. We’ve already done a cleanup and we are working with short sentences which gives us room for using an intent based model similar to the one from the previous pipeline. For more complex chit chats we will implement sentence-intent that doesn’t need a huge database and is not computational expensive. But also in this case we will limit chit chats in the conversation for the same reasons stated above.\n",
        "\n",
        "This pipeline is very similar with the previous one also in terms of solutions. The differences are the following:\n",
        "\n",
        "•\tWe will generate a response in a different flow in order to address also the possible core-input in the utterance.\n",
        "\n",
        "•\tSome chit-chats are linked with the deep-conversational (elaborate and feedback) and for that we need to take into consideration the Labyrinth model from the CPL layer.\n",
        "\n",
        "•\tIt’s important to add your own scenarios to be consistent with the bot’s built-in personality.\n"
      ]
    },
    {
      "cell_type": "code",
      "metadata": {
        "id": "WIiEh-oOOwdS"
      },
      "source": [
        "# IN:\n",
        "# OUT: "
      ],
      "execution_count": null,
      "outputs": []
    },
    {
      "cell_type": "markdown",
      "metadata": {
        "id": "udrQAv-GO3WO"
      },
      "source": [
        "Objectives:\n",
        "\n",
        "•\tEvaluating the chitchat of the users utterance in short sentences;\n",
        "\n",
        "•\tChitchats can be in a standalone input, or together with other types of inputs (core-inputs/replies...);\n",
        "\n",
        "•\tThe bot answers will be given in the secondary flow (first displayed answer), and the bot can give a main answer at the same time (second displayed answer);\n",
        "\n",
        "Language specificities: no;\n",
        "\n",
        "Dependencies: CPL/Splitting sentences/Labyrinth model;\n",
        "\n",
        "Database/ Vocabularies needed: databases with chitchats split in 8 categories + feedback (with 4 sub-categories) + elaboration database that is specific for queries (with 7 subcategories)– see Labyrinth model. \n"
      ]
    },
    {
      "cell_type": "code",
      "metadata": {
        "id": "dzxOQ5wgPUr5"
      },
      "source": [
        "# To dos:\n",
        "# 1.\tAnalyze CPL and splitting sentences.\n",
        "# 2.\tAssess CVM of the Chitchat sentence that will be used in CPL for Diatribe.\n",
        "# 3.\tApply an intent based model on every short sentence to see if the user is chitchatting (some chitchats can lead to deep-conversational through labyrinth model).\n",
        "# 4.\tUpdating IVM/AVM depending upon which of the 10 databases was used to give an answer (or track the intent). \n",
        "# 5.\tEliminating the sentence from Pirkin Model if a valid chitchat is identified\n"
      ],
      "execution_count": null,
      "outputs": []
    },
    {
      "cell_type": "markdown",
      "metadata": {
        "id": "yi4sbeC_PfaL"
      },
      "source": [
        "Use existing codes \n",
        "\n",
        "Similar to reply pipeline, as we are evaluating only short possible sentences, any existing code that can track down the 10 categories + additional categories can be used.\n",
        "\n",
        "possible solutions:\n",
        "1. data augmentation through translation can be a solution if no datasets available\n",
        "\n",
        "2. question-answering tasks/chatbots (using any model: transformers, open domain dialoque...\n",
        "\n",
        "3. intent based algorithms by labeling the possible chit chat categories - recommended"
      ]
    }
  ]
}