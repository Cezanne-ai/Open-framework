{
  "nbformat": 4,
  "nbformat_minor": 0,
  "metadata": {
    "colab": {
      "name": "21. Domain validation dummy code",
      "provenance": [],
      "collapsed_sections": []
    },
    "kernelspec": {
      "name": "python3",
      "display_name": "Python 3"
    },
    "language_info": {
      "name": "python"
    }
  },
  "cells": [
    {
      "cell_type": "markdown",
      "metadata": {
        "id": "QSiDsqp_LRj-"
      },
      "source": [
        "Now that we have the SPCA, we will also have the unique CVM that can validate our understanding. The fact that somebody is talking about a domain (let’s take as an example: restaurants) doesn’t mean that he has an intention (aka a question, a need, a request). We must take into consideration the fact that the words used by the user aim to describe a situation, or reply to the bot’s actions, or chit chat that wasn’t identified in the past pipelines… That’s why we need to put the words into context, by using CVM and results from the secondary flow analysis.\n",
        "\n",
        "We will split the SPCA domains in 4 categories (plus SPCA0 – if no domain is identified). \n",
        "\n",
        "The bot will also be able to have deep conversational discussions (SPCA4) based on its own personality defined by the books available in the database. The latter can be increased by adding new books on the open-framework – without having a data scientist to prepare the database for training. Specific training will be defined in NOG for each type. SPCA4 will not have a back up model.\n",
        "\n",
        "This pipeline differs from existing query classifiers due to the CVM evaluation in the processes.\n"
      ]
    },
    {
      "cell_type": "code",
      "metadata": {
        "id": "SM8-w8WqCHr6"
      },
      "source": [
        "# IN: sentence input\n",
        "# OUT: sentence input clasified depending on domains"
      ],
      "execution_count": null,
      "outputs": []
    },
    {
      "cell_type": "markdown",
      "metadata": {
        "id": "Skw-yc2rMO7Z"
      },
      "source": [
        "Objectives:\n",
        "\n",
        "Verifying the type of SPCA, confronting also with CVM:\n",
        "\n",
        "1.    SPCA1 - or core (for example: restaurant recommendation or legal consultancy...);\n",
        "\n",
        "2.    SPCA2 – back up for replies (3 types depending on the databases: confirmation, satisfaction, understanding);\n",
        "\n",
        "3.    SPCA3 – back up for chitchats (this can be descriptions of a situations or discussions not intended for a conclusion);\n",
        "\n",
        "4.    SPCA4 – deep conversational discussion on a topic through book queries (without a back up model);\n",
        "\n",
        "Dependencies: SPCA/ CVM/ Embeddings/ Reply/ Chitchat;\n",
        "\n",
        "Database/ Vocabularies needed: all\n"
      ]
    },
    {
      "cell_type": "code",
      "metadata": {
        "id": "0gka-7hMM92I"
      },
      "source": [
        "# To dos:\n",
        "# Step 1. Verifying all k-words of the sentence, if the user is talking about core domains and which one (restaurant, legal, investment...multi-domain).\n",
        "# Step 2. If core domain, confronting with CVM and checking the results of pipelines Reply and Chitchat.\n",
        "# Step 3. If SPCA1, check if P=“form verb/reservation” or S=“NER1”. If yes, classified as SPCA1.1 and SPCA1.2, respectively.\n",
        "# Step 3. If not core domain, check k-words and CVM to classify as SPCA2, SPCA3 or SPCA4.\n",
        "# Step 4. SPCA2 and SPCA3 will be also classified in SPCA2.1-2.3 and SPCA3.1-3.10 depending on the specific database used. 3.9 has 4 additional subtypes, 3.10 has 7 additional subtypes. If a secondary flow reply is active, SPCA2 will be eliminated. The same with SPCA3 and chitchats - the secondary flow has priority.\n",
        "# Step 5. SPCA4 will have 3 correspondences in NOG: novels/screenplays or specialized books.\n",
        "# Step 6. If no domain is identified, then we will consider it SPCA0 and w/t a SPCA memory update the bot will not have an answer.\n"
      ],
      "execution_count": null,
      "outputs": []
    },
    {
      "cell_type": "markdown",
      "metadata": {
        "id": "xdjLBYdSNMth"
      },
      "source": [
        "build code from scratch"
      ]
    }
  ]
}