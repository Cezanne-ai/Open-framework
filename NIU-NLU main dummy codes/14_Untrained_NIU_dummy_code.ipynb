{
  "nbformat": 4,
  "nbformat_minor": 0,
  "metadata": {
    "colab": {
      "name": "14. Untrained NIU dummy code",
      "provenance": [],
      "collapsed_sections": []
    },
    "kernelspec": {
      "name": "python3",
      "display_name": "Python 3"
    },
    "language_info": {
      "name": "python"
    }
  },
  "cells": [
    {
      "cell_type": "markdown",
      "metadata": {
        "id": "eNJDRlUsSnHz"
      },
      "source": [
        "As we stated in the Composed word and Emoji/Abbreviations, part of the user’s input must not be included in any training process, but everything that the user is saying needs to be addressed. This is the purpose of this pipeline, to find a middle ground in order not to disturb/ limit the conversation. \n",
        "\n",
        "We will not use complex algorithms, but only retrieve Composed words and Emoji/Abbreviations that will be addressed in the NOG/NLG layer.\n",
        "\n"
      ]
    },
    {
      "cell_type": "code",
      "metadata": {
        "id": "CM2jIw6CSiW3"
      },
      "source": [
        "# IN: inputs from pipelines: Composed words and EER\n",
        "# OUT: possible inputs for Reaction analysis + NOG answers (using mapping)"
      ],
      "execution_count": null,
      "outputs": []
    },
    {
      "cell_type": "markdown",
      "metadata": {
        "id": "VMRsP0XFTeI6"
      },
      "source": [
        "Objectives:\n",
        "\n",
        "•\tGiving answers to specific interactions that cannot be trained;\n",
        "\n",
        "•\tThe bot answers will be given in the secondary flow (first displayed answer),and the bot can give a main answer at the same time (second displayed answer);\n",
        "\n",
        "Language specificities: yes;\n",
        "\n",
        "Dependencies: Chitchat/EER/Composed word/NOG/ Reaction analysis;\n",
        "\n",
        "Database/ Vocabularies needed: database with specific answers (some random also for expressions);\n"
      ]
    },
    {
      "cell_type": "code",
      "metadata": {
        "id": "fP3hnTgATmdB"
      },
      "source": [
        "# To dos:\n",
        "# 1.\tReceiving inputs from Composed word and Emoji/Abbreviation (these were already categorized).\n",
        "# 2.\tRecategorized composed words that transmit a specific reaction (confirmation/satisfaction/understanding) and send this to reaction analysis.\n",
        "# 3.\tApply an algorithm, that is based on mapping and not a NLU model, only if no other chitchat valid answer was given. Only one answer is given based on LIFO\n",
        "# 4.\tUpdating AVM. \n",
        "# 5.\tEliminating inputs.\n"
      ],
      "execution_count": null,
      "outputs": []
    },
    {
      "cell_type": "markdown",
      "metadata": {
        "id": "td-HnC7FTvUB"
      },
      "source": [
        "Build code from scratch\n",
        "\n",
        "Use code also from reply to check possible reactions"
      ]
    }
  ]
}