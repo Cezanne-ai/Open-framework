{
  "nbformat": 4,
  "nbformat_minor": 0,
  "metadata": {
    "colab": {
      "name": "15. Input processing II dummy code",
      "provenance": [],
      "collapsed_sections": []
    },
    "kernelspec": {
      "name": "python3",
      "display_name": "Python 3"
    },
    "language_info": {
      "name": "python"
    }
  },
  "cells": [
    {
      "cell_type": "markdown",
      "metadata": {
        "id": "NB-rGKAwU7G7"
      },
      "source": [
        "Everything that has already been retrieved by another pipeline will not be used in the main algorithm. At the same time, we need to work with stem/base words."
      ]
    },
    {
      "cell_type": "code",
      "metadata": {
        "id": "J3uiw_XDUqHy"
      },
      "source": [
        "# IN: inputs from splitting sentences\n",
        "# OUT: clean up inputs for main algorithms"
      ],
      "execution_count": null,
      "outputs": []
    },
    {
      "cell_type": "markdown",
      "metadata": {
        "id": "a6_H6ogqVI5g"
      },
      "source": [
        "Objectives:\n",
        "\n",
        "•\tCleaning up words that were used for other purposes; \n",
        "\n",
        "•\tPreparing for Embeddings;\n",
        "\n",
        "Dependencies: Splitting sentences/DER/CVM;\n",
        "\n",
        "Database/ Vocabularies needed: Lexicon, vocabularies for verbs (conjugation forms);\n"
      ]
    },
    {
      "cell_type": "code",
      "metadata": {
        "id": "UVGv0Ll4VP0q"
      },
      "source": [
        "# To dos:\n",
        "# 1.\tRemove numerical data, punctuation, uppercase and other words used in scope of CVM and DER;\n",
        "# 2.\tStem/lemma words and/or bring words to their base (for ex: verbs are transformed in their infinitive form), including words that are marked in Splitting sentences\n"
      ],
      "execution_count": null,
      "outputs": []
    },
    {
      "cell_type": "markdown",
      "metadata": {
        "id": "SiTWHDBMVYBA"
      },
      "source": [
        "Use existing algorithms\n",
        "\n",
        "see input processing I for code examples; adapt the code to the objectives"
      ]
    }
  ]
}