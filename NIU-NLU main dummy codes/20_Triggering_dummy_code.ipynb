{
  "nbformat": 4,
  "nbformat_minor": 0,
  "metadata": {
    "colab": {
      "name": "20. Triggering dummy code",
      "provenance": [],
      "collapsed_sections": []
    },
    "kernelspec": {
      "name": "python3",
      "display_name": "Python 3"
    },
    "language_info": {
      "name": "python"
    }
  },
  "cells": [
    {
      "cell_type": "markdown",
      "metadata": {
        "id": "yp-q7UvsAXtr"
      },
      "source": [
        "In reality, the user’s input can be from the most complex to the simplest one. Even if our architecture is doing all kinds of cleanups and is separating core-inputs from replies or chit chats (if identified), it can be the case that we have in this state a complex and long input that contains Q&As and opinions and long descriptions, and replies, and chit chats… or any combinations of this type of inputs. The fact that we summarize everything in a simple SPCA sentence-intent with one subject +one predicate +one complement + one adjective can be seen as limitative in terms of understanding, even if this summarization is effective. Another issue that might occur is to have an input which is incomprehensible or too simple to find a complete SPCA (and the past interactions didn’t fill in the missing info).\n",
        "\n",
        "On the other hand, our objective is not to make a super-machine, but a bot that has the capacity to achieve the human level in conversations. Our bot will make the next decision in these situations, very similar with the human behavior:\n",
        "\n",
        "•\tIf the input is too short. It will initiate further interactions.\n",
        "\n",
        "•\tIf the input is too long it will trigger the common interest. It’s natural for a person not to memorize/understand everything that he is hearing/reading.\n",
        "\n",
        "•\tIf the input is incomprehensible, it will ask additional questions.\n",
        "\n",
        "•\tIf the input contains several types (replies, chit chats, Q&As…) it will do a prioritization. If the user considers that the bot didn’t understand everything, he will probably do a more specific follow up and the model is prepared for that.\n",
        "\n"
      ]
    },
    {
      "cell_type": "code",
      "metadata": {
        "id": "bFHmiGg-ASpq"
      },
      "source": [
        "# IN: k-word vector for each word in a sentence intent (SPCA)\n",
        "# OUT: NOG - additional questions"
      ],
      "execution_count": null,
      "outputs": []
    },
    {
      "cell_type": "markdown",
      "metadata": {
        "id": "RigqDOdLAofs"
      },
      "source": [
        "Objectives:\n",
        "\n",
        "•\tAssessing K-word (see Embeddings) for each word in the SPCA (sentence-intent that was outputted by the previous pipeline that is missing from the presentation )\n",
        "\n",
        "•\tInitiating clarification discussions with the user if we have incomplete information, or we don’t have a clear sentence-intent;\n",
        "\n",
        "Dependencies: SPCA/ Embeddings/ IVM;\n",
        "\n",
        "Database/ Vocabularies needed:\n"
      ]
    },
    {
      "cell_type": "code",
      "metadata": {
        "id": "HBBZC6dgBkY1"
      },
      "source": [
        "# To dos:\n",
        "# Step 1. Verify IVM. Triggering applies only once (mainly for turn 1).\n",
        "# Step 2. See if we have specific k-words for all SPCA. If yes, step 3 is skipped.\n",
        "# Step 3. Address additional questions to the user for details. The question will be specific, by using the word with the highest frequency or the identified NER, or general, if we don't have k-word with high frequency.\n"
      ],
      "execution_count": null,
      "outputs": []
    },
    {
      "cell_type": "markdown",
      "metadata": {
        "id": "oagCjfTxBzpH"
      },
      "source": [
        "build code from scratch"
      ]
    }
  ]
}