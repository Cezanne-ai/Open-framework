{
  "nbformat": 4,
  "nbformat_minor": 0,
  "metadata": {
    "colab": {
      "name": "7. DER - dummy code",
      "provenance": [],
      "collapsed_sections": []
    },
    "kernelspec": {
      "name": "python3",
      "display_name": "Python 3"
    },
    "language_info": {
      "name": "python"
    }
  },
  "cells": [
    {
      "cell_type": "markdown",
      "metadata": {
        "id": "0tgRRfUAqVOy"
      },
      "source": [
        "Adverbs, some specific numerical or data information are not important for understanding the core-input in a more complex utterance. They are essential for task-oriented purposes, for example. That’s why people usually note them down to use them in the final phase of the conversation, after they understand the core part of the input. \n",
        "\n",
        "We will do the same and not include these slots in the main model. In the NOG/answers layers we will see if we have all the information needed to accommodate task-oriented needs of the user. If not, additional questions will be asked. \n",
        "For architectural reasons we will not refer to DER as slots, as NER is separated in another pipeline with different NIU/CPL/NOG implications, and we are including also a relatively vector in DER (based on the type of used adverbs ) that is not usually treated as a slot and we are using it for deep conversational purposes.\n"
      ]
    },
    {
      "cell_type": "code",
      "metadata": {
        "id": "xmtbCgZHqOLa"
      },
      "source": [
        "# IN: input from processing & composed words\n",
        "# OUT: slots for CPL & NOG "
      ],
      "execution_count": null,
      "outputs": []
    },
    {
      "cell_type": "markdown",
      "metadata": {
        "id": "7mGKOkySqbnv"
      },
      "source": [
        "Objectives:\n",
        "\n",
        "•\tMaking a vector with dates, holydays referrals and “when\" adverbs;\n",
        "\n",
        "•\tMaking a budget vector;\n",
        "\n",
        "•\tMaking a number/hour vector;\n",
        "\n",
        "•\tMaking a relatively vector with adverbs (how often, how, how much) and specific adjectives;\n",
        "\n",
        "Language specificities: no;\n",
        "\n",
        "Dependencies: Input processing l/Composed words/CPL/NOG;\n",
        "\n",
        "Database/ Vocabularies needed: DER are imported from Input Processing I & Composed word;\n"
      ]
    },
    {
      "cell_type": "code",
      "metadata": {
        "id": "X226Lldlqlof"
      },
      "source": [
        "# To dos:\n",
        "# 1.\tAssess dates, holydays, ‘when’ adverbs and transform them into a custom date that is included in the date vector; \n",
        "# 2.\tAssess numbers & hours and transform them into a custom number included in the number/hour vector (using available slots). \n",
        "# 3.\tAssess budgets and transform them in budget vector (using available slots). \n",
        "# 4.\tAsses “how often, how, how much\" adverbs and specific adjectives from Composed words and transform them into a relative number that is kept in the relatively vector.\n",
        "# 5.\tActualize DER only if new specific data is provided (new or actualized) or we have a complete/trained SPCA; if not DER remains the same for the next turns.\n"
      ],
      "execution_count": null,
      "outputs": []
    },
    {
      "cell_type": "markdown",
      "metadata": {
        "id": "jY7wqI_vq18o"
      },
      "source": [
        "adapted code\n",
        "\n",
        "see built-in slots (AWS)"
      ]
    }
  ]
}