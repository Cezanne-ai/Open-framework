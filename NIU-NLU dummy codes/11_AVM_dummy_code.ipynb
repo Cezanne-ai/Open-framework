{
  "nbformat": 4,
  "nbformat_minor": 0,
  "metadata": {
    "colab": {
      "name": "11. AVM dummy code",
      "provenance": [],
      "collapsed_sections": []
    },
    "kernelspec": {
      "name": "python3",
      "display_name": "Python 3"
    },
    "language_info": {
      "name": "python"
    }
  },
  "cells": [
    {
      "cell_type": "markdown",
      "metadata": {
        "id": "ec5ddgZi2Fds"
      },
      "source": [
        "The final matrix that will be initialized in NOG and used in CPL is Answer Validation Matrix (AVM). Even if the info is obtained in NOG, we chose to include this pipeline here. Three main information are part of AVM, depending on the actions of the bot:\n",
        "\n",
        "•\tAnswers and types of answers; \n",
        "\n",
        "•\tQuestions and types of questions;\n",
        "\n",
        "•\tOther actions (bot doesn’t understand, changing topic, disclaimers, 3rd flow interactions used for empathy).\n",
        "\n",
        "CPL will evaluate each time the states of these three matrices (CVM, IVM and AVM) and apply the necessary policies in the conversation. \n"
      ]
    },
    {
      "cell_type": "code",
      "metadata": {
        "id": "f3UpSC9H2BAo"
      },
      "source": [
        "# IN: data from NOG\n",
        "# OUT: data for CPL"
      ],
      "execution_count": null,
      "outputs": []
    },
    {
      "cell_type": "markdown",
      "metadata": {
        "id": "LY5_FG3N2Zqe"
      },
      "source": [
        "Objectives:\n",
        "\n",
        "Populating a matrix with the following information:\n",
        "\n",
        "•\tNumber of conversational turns, and what the bot is answering each turn;\n",
        "\n",
        "•\tType of bot answers: NOG (NOG 1,2,3, 5 presented in the specific pipeline), secondary answer. “I do not know\" answer;\n",
        "\n",
        "•\tType of bot questions/actions: additional, confirmation, review, change topic, disclaimer;\n",
        "\n",
        "•\t3rd flow empathetic interactions and bot queries;\n",
        "\n",
        "•\tHistory of the answers/questions/empathy - not to risk repeating;\n",
        "\n",
        "Dependencies: NOG/IVM\n",
        "\n"
      ]
    },
    {
      "cell_type": "code",
      "metadata": {
        "id": "CZW7ae_i2w02"
      },
      "source": [
        "# To dos:\n",
        "# Column 1.    The number of the turns needs to be correlated with IVM.\n",
        "# Column 2.    Answers (0 if non: 1,2,3,5 for the type of NOG (+core/deep/back up criteria), 7 for secondary and 8 for “I do not know” )\n",
        "# Column 3.    Answer identification number - each answer will have a code.\n",
        "# Column 4.    Questions/Actions (0 for non, 1 for additional, 2 for confirmation, 3 for review, 4 for change topic, 5 for disclaimer) \n",
        "# Column 5.    Questions/Actions Identification number - each bot action/question will have a code.\n",
        "# Column 6.    3rd flow empathetic interactions and bot queries.\n",
        "# Column 7.    3rd flow identification number and bot queries - not to repeat the empathy.\n"
      ],
      "execution_count": null,
      "outputs": []
    },
    {
      "cell_type": "markdown",
      "metadata": {
        "id": "_dj3ZVkg3B0P"
      },
      "source": [
        "build code from scratch similar with IVM "
      ]
    }
  ]
}