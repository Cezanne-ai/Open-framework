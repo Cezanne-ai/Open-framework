{
  "nbformat": 4,
  "nbformat_minor": 0,
  "metadata": {
    "colab": {
      "name": "9. CVM dummy code",
      "provenance": [],
      "collapsed_sections": []
    },
    "kernelspec": {
      "name": "python3",
      "display_name": "Python 3"
    },
    "language_info": {
      "name": "python"
    }
  },
  "cells": [
    {
      "cell_type": "markdown",
      "metadata": {
        "id": "oMvzo5NJuQSd"
      },
      "source": [
        "Using NLP question-answering solution to conversational AI can be tricky if we are seeing the conversation for what it really means . The same is with intent-based solutions. Let’s take some examples:\n",
        "\n",
        "“I am going home” vs “Am I going home?”\n",
        "\n",
        "“I do not intend to go home and watch tv” vs “I do intend to go home and not watch TV”\n",
        "\n",
        "In question-answering or chatbots the hypothesis is that the user is addressing a question which is generally built in a positive sentence. In this way the similarity scores will be high with all the available functions and probably will not have a huge impact if you forget to put the question mark. In a conversation, the two pairs of examples have completely different meanings and, even if you use dense layers for embeddings and a very accurate similarity score, you can fail to understand what the user is saying (especially if you don’t have a large corpus). For this reason, we will build a matrix (CVM) to constantly double check the context and the user’s intention. Another way to do it is to check your pipelines and better optimize the tokenizer and sub-word function that you are using. This method can have some effect for huge corpuses and languages like English, however this is not in scope of our paper. Not to mention that if you are using a pre-trained model you need to stick with the model tokenizer and most of the time is out of your hands.\n",
        "\n",
        " This matrix is crucial for layer 2: Conversational Policies Learning (CPL) that must use this matrix (together with other matrices) to decide the policies and the states of the dialogue/conversation. The following information needs to be retrieved and kept in the matrix:\n",
        "\n",
        "•\tIf the input is an affirmation, a negation or a question (or a request).\n",
        "\n",
        "•\tIf the user is talking about the present, the future or the past.\n",
        "\n",
        "•\tIf the user is speaking in first, second or third person.\n",
        "\n",
        "Principles: \n",
        "\n",
        "•\tEach sentence will have a CVM.\n",
        "\n",
        "•\tThe priorities are as follows: negation, question, affirmation.\n",
        "\n",
        "•\tThe principal CVM will be chosen in the SPCA  algorithm.\n",
        "\n",
        "•\tCVM will be updated in the memory update algorithm.\n",
        "\n",
        "•\tFor deep conversational inputs without subject, CVM will complete SPCA with the subject.\n",
        "\n",
        "The dependencies with other validation matrices are in scope of layer 2. \n"
      ]
    },
    {
      "cell_type": "code",
      "metadata": {
        "id": "6WOg928wuLtI"
      },
      "source": [
        "# IN: inputs from the pipelines: Grammar & Splitting sentences\n",
        "# OUT: data for CPL"
      ],
      "execution_count": null,
      "outputs": []
    },
    {
      "cell_type": "markdown",
      "metadata": {
        "id": "4JjI_f9Qul8Z"
      },
      "source": [
        "Objectives:\n",
        "\n",
        "Populating a 3*3 matrix with 1 or 0 for the following:\n",
        "\n",
        "•\tQuestion/Request or not, Negation or not, Affirmation or not;\n",
        "\n",
        "•\tFuture, present or past;\n",
        "\n",
        "•\tFirst, second or third person of the verb.\n",
        "\n",
        "Each sentence will have a CVM, if the sum of row 1>1 (priority: negation & question), if sum=0 than affirmation=1. \n",
        "\n",
        "Language Specificities: yes (specific forms of negations, retrieving questions even if “?” doesn't exist);\n",
        "\n",
        "Dependencies: Grammar-Semantics/Splitting sentences/CPL\n",
        "\n",
        "Database/ Vocabularies needed: Vocabularies for negations& questions + involve linguists\n"
      ]
    },
    {
      "cell_type": "code",
      "metadata": {
        "id": "Mt8lWCeguxBo"
      },
      "source": [
        "# To dos:\n",
        "# 1.\tRetrieve info from Grammar-Semantics and populate the 2nd and 3rd row of the CVM.\n",
        "# 2.\tSearch each sentence for key words for negation \n",
        "# 3.\tSearching for wording/punctuation for questions. For every language there are different ways of assessing negations. \n"
      ],
      "execution_count": null,
      "outputs": []
    },
    {
      "cell_type": "markdown",
      "metadata": {
        "id": "QKcmdCnmu5IB"
      },
      "source": [
        "buid code from scratch"
      ]
    }
  ]
}