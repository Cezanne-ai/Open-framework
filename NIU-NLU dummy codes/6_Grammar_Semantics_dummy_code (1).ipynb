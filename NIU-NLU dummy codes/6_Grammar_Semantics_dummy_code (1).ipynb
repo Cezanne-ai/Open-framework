{
  "nbformat": 4,
  "nbformat_minor": 0,
  "metadata": {
    "colab": {
      "name": "6. Grammar/Semantics dummy code",
      "provenance": [],
      "collapsed_sections": []
    },
    "kernelspec": {
      "name": "python3",
      "display_name": "Python 3"
    },
    "language_info": {
      "name": "python"
    }
  },
  "cells": [
    {
      "cell_type": "markdown",
      "metadata": {
        "id": "35lxkB5RmKeh"
      },
      "source": [
        "This algorithm usually has a huge impact on understanding and on the conversational policies/states. As we are dealing with semantics also in other pipelines it is important to find the right steps and resources to complete it correctly and in here, we are preparing the field. \n",
        "\n",
        "To find the specific-domains semantics, a database is needed (can be also books related to the domains that are used for query purposes, or site’s corpuses, or any unstructured data related to the domain) together with the available corpuses that we have for the language model. It’s not important for corpuses to be large. In our research, 100-200 sentences for each type of conversation (chit-chat/ reactions/ restaurants advice/ legal consultancy etc.) are enough at this point. \n",
        "\n",
        "We don’t want to use pre-trained models that are coming with their own tokenizers and semantics from different domains.\n"
      ]
    },
    {
      "cell_type": "code",
      "metadata": {
        "id": "ohoGr8BwmFG_"
      },
      "source": [
        "# IN: input from pre-processing and Composed Words\n",
        "# OUT: tuple (word/POS) + identified input for CVM"
      ],
      "execution_count": null,
      "outputs": []
    },
    {
      "cell_type": "markdown",
      "metadata": {
        "id": "LyR92TAYmZLC"
      },
      "source": [
        "Objectives:\n",
        "\n",
        "•\tAddressing words that are coming from the linguistic evaluation;\n",
        "\n",
        "•\tRetrieving information for CVM (verbs);\n",
        "\n",
        "•\tAddressing UNK words by finding their POS probabilities;\n",
        "\n",
        "•\tAddressing words that has more than one POS in lexicons/vocabularies and estimate their right POS;\n",
        "\n",
        "Language specificities: yes (first 2 objectives);\n",
        "\n",
        "Dependencies: Input Processing l/CVM/ Composed words;\n",
        "\n",
        "Database/ Vocabularies needed: Lexicon, verbs conjugations/forms, pronouns database, choose a database for POS training + Books database (that contains titles/first phrases for each chapter/sub-titles/ dialogues);\n"
      ]
    },
    {
      "cell_type": "code",
      "metadata": {
        "id": "qR3OyPSzmiwv"
      },
      "source": [
        "# To dos:\n",
        "# 1.\tRetrieve information by evaluating each verb and send it to CVM (future/present/past, firsts person/second/third, affirmative/negative forms)\n",
        "# 2.\tBring words that are coming from linguistic evaluation to their common base/stem/lemma. \n",
        "# 3.\tTrain database for semantic (some nouns are marked in composed words for this task).\n",
        "# 4.\tFor every word make a tuple of the word and his POS.\n"
      ],
      "execution_count": null,
      "outputs": []
    },
    {
      "cell_type": "markdown",
      "metadata": {
        "id": "vBXpHP_Om9kx"
      },
      "source": [
        "Use existing codes\n",
        "\n",
        "Example codes (Do not use without adaptation):\n"
      ]
    },
    {
      "cell_type": "code",
      "metadata": {
        "id": "1G2j2SKqnH-O"
      },
      "source": [
        "# https://github.com/amanjeetsahu/Natural-Language-Processing-Specialization/blob/master/Natural%20Language%20Processing%20with%20Probabilistic%20Models/Week%203/C2_W3_Assignment_Solution.ipynb\n",
        "# https://github.com/amanjeetsahu/Natural-Language-Processing-Specialization/blob/master/Natural%20Language%20Processing%20with%20Attention%20Models/Week%201/C4_W1_Assignment_Solution.ipynb\n",
        "# https://github.com/amanjeetsahu/Natural-Language-Processing-Specialization/blob/master/Natural%20Language%20Processing%20with%20Classification%20and%20Vector%20Spaces/Week%202/C1_W2_Assignment_Solution.ipynb\n",
        "# https://github.com/amanjeetsahu/Natural-Language-Processing-Specialization/blob/master/Natural%20Language%20Processing%20with%20Probabilistic%20Models/Week%203/C2_W3_Assignment_Solution.ipynb"
      ],
      "execution_count": null,
      "outputs": []
    }
  ]
}