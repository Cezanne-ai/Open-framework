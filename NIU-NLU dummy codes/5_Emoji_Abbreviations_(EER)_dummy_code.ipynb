{
  "nbformat": 4,
  "nbformat_minor": 0,
  "metadata": {
    "colab": {
      "name": "5. Emoji/ Abbreviations (EER) -dummy code",
      "provenance": [],
      "collapsed_sections": []
    },
    "kernelspec": {
      "name": "python3",
      "display_name": "Python 3"
    },
    "language_info": {
      "name": "python"
    }
  },
  "cells": [
    {
      "cell_type": "markdown",
      "metadata": {
        "id": "1yKhLP03hArF"
      },
      "source": [
        "As we are not developing a chit chat but a virtual conversation between a user and an expert, we will make some assumptions:\n",
        "\n",
        "•\tThe user will not use emoji or abbreviations in the same sentence with an important request.\n",
        "\n",
        "•\tThe user might use emoji/abbreviations as a reaction/reply or in a follow up discussion.\n",
        "\n",
        "•\tThe user might use emoji/abbreviations in a more complex input and a reply might be regarded as emotional and thus might help the conversation going forward.\n",
        "\n",
        "Taking this into consideration, we will implement a secondary flow that will have specific answers/policies and can exist together with the main flow, or standalone if no other input is provided by the user. \n",
        "\n",
        "Important: Abbreviations that are not considered as specific to chit chat needs will be treated in the main flow, together with the sentence-intent. For example: abbreviation for institutes that are NER.\n"
      ]
    },
    {
      "cell_type": "code",
      "metadata": {
        "id": "9QrCI1_cg6TF"
      },
      "source": [
        "# IN: inputs from Auto-correctand Procesing I\n",
        "# OUT: send identified emoji/abbreviations to the following pipelines: Untrained NIU/Reaction Analysis"
      ],
      "execution_count": null,
      "outputs": []
    },
    {
      "cell_type": "markdown",
      "metadata": {
        "id": "HK9_k_wXhXjI"
      },
      "source": [
        "Objectives:\n",
        "\n",
        "•\tGathering the emoji/abbreviations from auto-correct, processing and mark them for Untrained NIU/Reactions;\n",
        "\n",
        "Language specificities: no;\n",
        "\n",
        "Dependencies: Auto-correct /Processing I/Untrained NIU/ Reaction analysis; \n",
        "\n",
        "Database/ Vocabularies needed: Emoji/Abbreviations vocabularies;\n"
      ]
    },
    {
      "cell_type": "code",
      "metadata": {
        "id": "KFSoniTkhqp6"
      },
      "source": [
        "# To dos:\n",
        "# 1.\tMark sentences with emoji/abbreviations for Untrained answers.\n",
        "# 2.\tClassify all the emoji/abbreviations in 6 categories (sad, blink, kiss, smile, cool, laughing out loud).\n",
        "# 3.\tSad and Smile will be sent to the Reaction analysis pipeline. \n",
        "# 4.\tThe rest will be sent to Untrained NIU.\n"
      ],
      "execution_count": null,
      "outputs": []
    },
    {
      "cell_type": "markdown",
      "metadata": {
        "id": "0ouZs8mAhzeR"
      },
      "source": [
        "Use adapted code\n",
        "\n",
        "Code example, but please adapt to the objectives\n",
        "\n",
        "\n",
        "\n",
        "\n"
      ]
    },
    {
      "cell_type": "code",
      "metadata": {
        "id": "E44ouNp-jnBK"
      },
      "source": [
        "# https://github.com/amanchadha/coursera-deep-learning-specialization/blob/master/C5%20-%20Sequence%20Models/Week%202/Emojify/Emojify%20-%20v2.ipynb\n"
      ],
      "execution_count": null,
      "outputs": []
    }
  ]
}