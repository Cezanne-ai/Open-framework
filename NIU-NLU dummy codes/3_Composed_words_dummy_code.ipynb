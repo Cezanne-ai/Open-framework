{
  "nbformat": 4,
  "nbformat_minor": 0,
  "metadata": {
    "colab": {
      "name": "3. Composed words - dummy code",
      "provenance": [],
      "collapsed_sections": []
    },
    "kernelspec": {
      "name": "python3",
      "display_name": "Python 3"
    },
    "language_info": {
      "name": "python"
    }
  },
  "cells": [
    {
      "cell_type": "markdown",
      "metadata": {
        "id": "2uROo2ATX1nM"
      },
      "source": [
        "One of the biggest risks in NLP is the fact that everything is trained without considering the exceptions. From our experience in using language interfaces (platforms), many of the issues were in these situations. The next general categories need to be taken out from the core NLP/DL algorithms and treated differently:\n",
        "\n",
        "•\tExpressions, ironies, metaphors, quotes. Including them in a training process is not necessary as they must be reproduced exactly (word by word) and they have impact on reactions (ironies) and not on the core-input.\n",
        "\n",
        "•\tSpecific adjectives with superlatives & adverbs (even the ones in one word). For example, “one of the best” must be treated as an exception from training, especially if you don’t have a huge database to cover all of them in many different situations.\n",
        "\n",
        "•\tDescription/definition of words in the dictionaries (optional). Every lexicon has short descriptions of words to understand them better. Using these definitions and replacing different sentences found in the user input with the corresponding lexicon word, is in the scope of this research. There are situations when you cannot find the right word in a conversation, but you manage to give an approximation of his definition.\n",
        "\n",
        "•\tSpecific entities (for example in the restaurant industry: name of chefs, name of restaurants, types of food) that are written in more than one word, but the entity must be treated as one.\n"
      ]
    },
    {
      "cell_type": "code",
      "metadata": {
        "id": "kMpCiPk7XgZ1"
      },
      "source": [
        "# IN: pre-processed input; select only words\n",
        "# OUT: diffrent inputs to following pipelines: Grammar-Semantics/Untrained NIU/ DER/ SPCA/ Embeddings/ Back up algorithm/ Reaction analysis/NER;"
      ],
      "execution_count": null,
      "outputs": []
    },
    {
      "cell_type": "markdown",
      "metadata": {
        "id": "Wh0-m8CbYFah"
      },
      "source": [
        "Objectives:\n",
        "\n",
        "•\tIdentifying composed words that can be treated as a single word;\n",
        "\n",
        "•\tIdentifying composed words that need to be addressed separately;\n",
        "\n",
        "•\tIdentifying adverbs & superlatives of specific adjectives and include them in categories;\n",
        "\n",
        "Language specificities: yes (see expressions and ironies that are specific to each language);\n",
        "\n",
        "Dependencies: Grammar-Semantics/Untrained NIU/ DER/ SPCA/ Embeddings/ Back up algorithm/ Reaction analysis/NER;\n",
        "\n",
        "Database/ Vocabularies needed: Lexicon/Dictionaries for expressions, ironies, quotes, metaphors/Database for adverbs & superlatives for specific adjectives/ Specific vocabularies + Books/chapter titles– for the items composed of min 2 words.\n"
      ]
    },
    {
      "cell_type": "code",
      "metadata": {
        "id": "sGqnygSMYL84"
      },
      "source": [
        "# To dos:\n",
        "# 1.\tFind in the input words that appear in the NER specific vocabularies + Books/chapter titles and mark them for NER (special attention for the items composed of min 2 words).\n",
        "# 2.\tFind expressions, metaphors, quotes and mark them for Untrained NIU. Remove them from the main model.\n",
        "# 3.\tFind ironies and mark them for Reaction analysis. Remove them from the main model.\n",
        "# 4.\tFind adverbs and include them in 5 categories: how often, when, how, how much and where. First 4 categories are marked for DER, the fifth in the SPCA pipeline.\n",
        "# 5.\tSpecific adjectives and their superlatives are included in 5 categories: plus-positive, positive, neutral, negative, minus-negative; in scope of Embeddings and DER relatively vector.\n"
      ],
      "execution_count": null,
      "outputs": []
    },
    {
      "cell_type": "markdown",
      "metadata": {
        "id": "TjUHG9ifYVOx"
      },
      "source": [
        "Use existing codes available\n"
      ]
    }
  ]
}