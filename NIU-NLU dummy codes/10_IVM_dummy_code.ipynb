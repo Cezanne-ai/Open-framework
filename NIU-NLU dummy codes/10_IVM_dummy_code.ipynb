{
  "nbformat": 4,
  "nbformat_minor": 0,
  "metadata": {
    "colab": {
      "name": "10. IVM - dummy code",
      "provenance": [],
      "collapsed_sections": []
    },
    "kernelspec": {
      "name": "python3",
      "display_name": "Python 3"
    },
    "language_info": {
      "name": "python"
    }
  },
  "cells": [
    {
      "cell_type": "markdown",
      "metadata": {
        "id": "Dsgj2-zOvkss"
      },
      "source": [
        "The second matrix that will be used for policies in the Conversational Policies Learning is IVM. This matrix tries to identify what kind of input the user is entering:\n",
        "\n",
        "•\tA description of his needs (as asked by the bot in the first interaction);\n",
        "\n",
        "•\tA short utterance (a question related to the main topic, for example);\n",
        "\n",
        "•\tA reaction to the bot questions or answers (or lack of answers);\n",
        "\n",
        "•\tA chit chat with an emotional reaction/input;\n",
        "\n",
        "•\tAn input that cannot be trained (EER/Composed word).\n",
        "\n",
        "The following information needs to be imported in IVM: \n",
        "\n",
        "•\tNo. of short sentences, no. of complex sentences, no. of inputs from EER & Composed word; \n",
        "\n",
        "•\tNo. of turns;\n",
        "\n",
        "•\tWhat the bot is receiving: a description/sentence-intent, a chit chat input or a reply (reaction of the user to past interaction).\n"
      ]
    },
    {
      "cell_type": "code",
      "metadata": {
        "id": "eKmKvHNPvdYJ"
      },
      "source": [
        "# IN: input from EER, Composed words, Splitting Sentences + NIU/NLU machine learning pipelines\n",
        "# OUT: data for CPL/NOG"
      ],
      "execution_count": null,
      "outputs": []
    },
    {
      "cell_type": "markdown",
      "metadata": {
        "id": "Nk-Yor6i0hVU"
      },
      "source": [
        "Objectives:\n",
        "\n",
        "Populating a matrix with the following information:\n",
        "\n",
        "•\tNumber of conversational turns, and what the bot is receiving each turn;\n",
        "\n",
        "•\tThe bot can receive the following: SPCA (5 types of SPCA presented in the specific pipeline), reactions, chitchats or back-up inputs;\n",
        "\n",
        "•\tNo. of short sentences, no. of complex sentences, no. of inputs from EER & Composed word.\n",
        "\n",
        "Dependencies: EER/Composed word /Splitting sentences;\n"
      ]
    },
    {
      "cell_type": "code",
      "metadata": {
        "id": "ueEc5zyE0vdg"
      },
      "source": [
        "# To dos:\n",
        "# Column 1. The number of the turn. Multiple inputs w/t a response from the bot is considered as 1. \n",
        "# Column 2. SPCA1 inputs (0 if non; 1.1,1.2 for the type of SPCA1, see specific pipeline).\n",
        "# Column 3. Reactions (0 for non; 1-9 for the type of reactions - see specific pipeline: Reaction analysis).\n",
        "# Column 4. Chitchats & SPCA3 (0 for non, 1-10 for specific chitchats, 9.1-9.4 the sub-categories for feedback and 10.1-1.7 sub-categories for elaborate),\n",
        "# Column 5. SPCA4 inputs (0 if non; 1,2,3 for the type of SPCA4, see specific pipeline).\n",
        "# Column 6. Short sentences. A sentence with 1 verb is classified as short. Count the number of sentences with 1 verb. \n",
        "# Column 7. Complex sentences. A sentence with more than 1 verb (the verbs that are marked for SPCA multiplication also counts).\n",
        "# Column 8. No. of inputs pipeline from EER & Composed words.\n",
        "# Column 9. back-up inputs (0 if non; 1.1,1.2 - see specific).\n"
      ],
      "execution_count": null,
      "outputs": []
    },
    {
      "cell_type": "markdown",
      "metadata": {
        "id": "dxvdpDE80hSx"
      },
      "source": [
        "Build code from scratch"
      ]
    }
  ]
}