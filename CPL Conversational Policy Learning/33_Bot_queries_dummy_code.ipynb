{
  "nbformat": 4,
  "nbformat_minor": 0,
  "metadata": {
    "colab": {
      "name": "33. Bot queries dummy code",
      "provenance": [],
      "collapsed_sections": []
    },
    "kernelspec": {
      "name": "python3",
      "display_name": "Python 3"
    },
    "language_info": {
      "name": "python"
    }
  },
  "cells": [
    {
      "cell_type": "markdown",
      "metadata": {
        "id": "gJl71bNJPmB8"
      },
      "source": [
        "As we previously argued, conversation doesn’t mean only Q&As, role plays and chit chats. At the same time, conversational AGI doesn’t necessarily refer to an answer generation, but can also mean generating a policy in a specific conversation that can ultimately make the user more engaged. Our focus will be on the latter. As latest studies about people have shown, conscious thinking accounts for only 2% and the rest is unconscious thinking and doubt is the main driver of existence. This translates into a high probability that any conversation sooner or later will become unintelligible and not only due to the bot’s limited capabilities, but also due to the specificity of the user’s behavior. To tackle this issue, at some point, we need to have more than debates policies, where the bot is having initiatives. We need to have a structural thinking, in more than one step, in order to drive the discussion on a controlled path.\n",
        "\n",
        "Characteristics of the pipeline:\n",
        "\n",
        "•\tAssessing DER. Not only in terms of information/data but also in terms of relatively vector to see the “certainty” of the user related to the main subject.\n",
        "\n",
        "•\tIdentifying criteria for the cases the user wants to exit the bot (cascade) queries.\n",
        "\n",
        "•\tFor core inputs/forms, for example, the policies will be controlled and the objective is to have all the information needed from the user (DER assessment). The model will be similar with the appropriate slots thinking.\n",
        "\n",
        "•\tIn case of Bot queries 2 The bot will decide the policies based on DER- relatively vector (all these percentages need to be revised in alpha/beta testing). \n",
        "\n",
        "o\tIf the relatively vector is high (>90%) or low (less than 10%) no queries are initiated considering that the user is sure/certain regarding his intentions/request.\n",
        "\n",
        "o\tIf relatively vector is within 10 and 90% The bot will intuit that it’s important to have a deeper understanding of the user’s needs. \n",
        "\n",
        "Intuition. \n",
        "\n",
        "A more substantial input regarding our view on AGI will be disclosed in the next layer (Natural Output Generation), but in this pipeline we will lay the foundation by initiating policies that could enact the bot’s independence without randomizing or programming. The bot intuition will be based on the level of the relativity that specific adjectives/adverbs can imply over the sentence-intent. Depending on the relativity factor, the bot will engage into a more complex conversation by having 4 possible policies:\n",
        "\n",
        "•\tHas doubts regarding some ideas/topics;\n",
        "\n",
        "•\tHas interest in the user’s opinions;\n",
        "\n",
        "•\tHas interest in the user as a person;\n",
        "\n",
        "•\tWants to share his thoughts. \n",
        "\n",
        "All these policies are symbolic of human behavior in a conversation. For example, doubts will make the bot as close to a human as it can possibly be. \n"
      ]
    },
    {
      "cell_type": "code",
      "metadata": {
        "id": "MXdnNgqlP6JC"
      },
      "source": [
        "# IN: DER/SPCA/Reactions evaluation\n",
        "# OUT: policies to aply + exit conditions"
      ],
      "execution_count": null,
      "outputs": []
    },
    {
      "cell_type": "markdown",
      "metadata": {
        "id": "l3kfQupKQHoK"
      },
      "source": [
        "Objectives:\n",
        "\n",
        "•\tWhen to exit the bot queries?\n",
        "\n",
        "•\tWhat policies to apply in different circumstances?\n",
        "\n",
        "•\tThings are more straightforward for the Bot queries 1 and we don’t need supplementary analyses. \n",
        "\n",
        "•\tThe initial intent is addressed only after DER becomes more than 90%.\n"
      ]
    },
    {
      "cell_type": "code",
      "metadata": {
        "id": "qxMcJmI5QKRw"
      },
      "source": [
        "# insert codefor exit situations:\n",
        "# Exit Bot queries 2:\n",
        "  # DER relatively vector<10% or >90%;\n",
        "  #\tNo DER relatively vector in the last 2 turns;\n",
        "  #\tNew inputs: SPCA1;\n",
        "  #\tRepetitive types of SPCA’s or back up’s (ex: his asking 2 times for redirect);\n",
        "  #\tReactions: sarcastic, misunderstanding, unsatisfied;\n",
        "\n",
        "# Exit Bot queries 1:\n",
        "  # All cases except SPCA1.2/1.1 and DER actualization,\n"
      ],
      "execution_count": null,
      "outputs": []
    },
    {
      "cell_type": "code",
      "metadata": {
        "id": "Z_j4PES_QcSR"
      },
      "source": [
        "# insert code for the following table implementation:"
      ],
      "execution_count": null,
      "outputs": []
    },
    {
      "cell_type": "markdown",
      "metadata": {
        "id": "DTPoMAgCQhCI"
      },
      "source": [
        "![image.png](data:image/png;base64,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)"
      ]
    }
  ]
}