{
  "nbformat": 4,
  "nbformat_minor": 0,
  "metadata": {
    "colab": {
      "name": "47. Commercial bots answers dummy code ",
      "provenance": [],
      "collapsed_sections": []
    },
    "kernelspec": {
      "name": "python3",
      "display_name": "Python 3"
    },
    "language_info": {
      "name": "python"
    }
  },
  "cells": [
    {
      "cell_type": "markdown",
      "metadata": {
        "id": "WZ4ApV8Re8rJ"
      },
      "source": [
        "Our framework allows us to integrate a commercial bot that is mainly a Q&A bot (the task-oriented capabilities are consolidated in the bot queries 1) and has the benefits of becoming a sales-oriented environment integrated with the advisory environment.\n",
        "\n",
        "Let’s take some examples to understand the benefits:\n",
        "\n",
        "•\tA specific restaurant wants to integrate a chatbot that recommends restaurants. This allows the restaurant to offer more details to customers’ questions, like parking capabilities, menus, Q&As, paying methods, smoking and children’s policies. \n",
        "\n",
        "•\tA specific medical cabinet wants to integrate a chatbot that has medical advice. In this way it can give the user additional information about the program, prices, type of services.\n",
        "\n",
        "•\tSame for law firms, companies that are hiring, banks, broker houses and so on.\n",
        "\n",
        "The specific chatbots become active when user queries 1 state is initiated due to NER1 identification in the user input. This state also has exit conditions provided by CPL. \n",
        "\n"
      ]
    },
    {
      "cell_type": "code",
      "metadata": {
        "id": "EAF0yCJFe3cM"
      },
      "source": [
        "# IN: initialization of commercial bots answers\n",
        "# OUT: NOG adapted "
      ],
      "execution_count": null,
      "outputs": []
    },
    {
      "cell_type": "markdown",
      "metadata": {
        "id": "A5IuFFw6f8cc"
      },
      "source": [
        "Objectives:\n",
        "\n",
        "•\tIntegrating a commercial bot in Cezanne-ai framework and in the bot database.\n",
        "\n",
        "Dependencies: Pirkin model;\n",
        "\n",
        "Database/ Vocabularies/External needed: Q&A labeled data specific for the tasks\n"
      ]
    },
    {
      "cell_type": "code",
      "metadata": {
        "id": "YFAR58pFgH52"
      },
      "source": [
        "# To Dos:\n",
        "# 1.\tThe Subject of SPCA will be replaced by the NER of the commercial bot when user-queries 1 is initiated.\n",
        "# 2.\tThe back-up and secondary will be inactivated.\n",
        "# 3.\tCPL will be inactivated except Reaction analysis that will determine exit conditions.\n",
        "# 4.\tFrom NOG only SPCA core answers will be active.\n",
        "# 5.\tAll the utterances-answers will be included also in the main database (with the NER included even if redundant) for cases when the user is also inputting NER1 and the user-queries 1 hasn’t been initiated. \n",
        "# 6.\tIn the Cezanne-ai framework only the integrated database needs to be uploaded with specification of the NER1.\n"
      ],
      "execution_count": null,
      "outputs": []
    },
    {
      "cell_type": "markdown",
      "metadata": {
        "id": "PWrpQywRgZ22"
      },
      "source": [
        "similar code with pirkin models"
      ]
    }
  ]
}