{
  "nbformat": 4,
  "nbformat_minor": 0,
  "metadata": {
    "colab": {
      "name": "42. Conversational analysis dummy code",
      "provenance": [],
      "collapsed_sections": []
    },
    "kernelspec": {
      "name": "python3",
      "display_name": "Python 3"
    },
    "language_info": {
      "name": "python"
    }
  },
  "cells": [
    {
      "cell_type": "markdown",
      "metadata": {
        "id": "hpdkdLTcUFhl"
      },
      "source": [
        "Conversational analysis is an AGI concept that we are proposing and has two main objectives that are common to human behavior in a conversation: live self-correcting and automatic adaptation. Both have the same characteristic: change, because humans are always trying to adapt not only to the environment and to social constraints but also to different conversational situations that cannot be captured by a programmed CPL state. Let’s take as an example a call center employee that is going through training and role plays and is prepared by the employer for different situations. What will the employee do in case of an unexpected situation? A common solution is to ask for the supervisor’s help or to come back later with the response. But all these solutions are on the client’s time and many of us had bad experiences with call centers, not to mention that rethinking and restructuring the activity to the rapidly changing environment means a lot of time and money for the businesses. Our solution is to educate the bot and prepare it better in order to be more efficient and solve an increased percentage of the user’s needs.\n",
        "\n",
        "Without change, humans cannot evolve and sometimes post-administration or post-training of a conversational bot is either coming too late or is addressing other commercial needs and not the need of the machine to better perform in a conversational environment. \n",
        "\n",
        "The fact that we are choosing to implement two simultaneous models, Pirkin 2 & AGI concepts, on one hand, and an E2E DL model on the other, allows the bot to immediately adapt and make automatic changes. This approach is also helpful for the multi-domain open-framework, because different industries and databases can work better with a model or the other, and this doesn’t necessarily mean that Pirkin 2 model is better than E2E DL model (or the other way around) but it means that one model is suited more than the other, depending on the configuration of the bot.\n",
        "\n",
        "The conversational analysis will have two possible outcomes and both impacts only core-inputs:\n",
        "\n",
        "•\tOffering a live backup answer if the user has a negative reaction to the bot’s initial answer (the solution has already been presented in the previous layers);\n",
        "\n",
        "•\tChoosing the best suited custom model for a configured bot depending on the user’s reactions in time.\n"
      ]
    },
    {
      "cell_type": "code",
      "metadata": {
        "id": "_sJYPWthT-CL"
      },
      "source": [
        "# IN: NIU and CPL\n",
        "# OUT: calculate what model is better suited for the current conversation"
      ],
      "execution_count": null,
      "outputs": []
    },
    {
      "cell_type": "markdown",
      "metadata": {
        "id": "naSMkPxoVDVE"
      },
      "source": [
        "Objectives:\n",
        "\n",
        "•\tDetermining if the Pirkin-SPCA model is better suited (as a principal model trained) for the bot configuration or one of the back-up models.\n",
        "\n",
        "•\tCalculating a scoring for each interaction that the bot is having and a consolidated scoring that can show the results of the bot.\n",
        "\n",
        "Dependencies: CPL/Auto-training/Back up model/Reactions/IVM/AVM\n"
      ]
    },
    {
      "cell_type": "code",
      "metadata": {
        "id": "yH5m8LdGVGm8"
      },
      "source": [
        "# To Dos:\n",
        "# 1.\tEach bot will have a Pirkin model as the initial, custom model for the core-intents.\n",
        "# 2.\tCalculating a scoring for each interaction. Two indicators will be evaluated: 1. no. of turns 2. User reactions.\n",
        "# 3.\tCalculating the average of the scoring for interactions only with a custom model.\n",
        "# 4.\tCalculating the average of scoring for interaction where back-up answers were given.\n",
        "# 5.\tAt each x interactions compare 3 with 4.\n",
        "# 6.\tIf results from point 4 are better than 3, the backup model will become a custom model.\n",
        "# 7.\tRepeat the process.\n"
      ],
      "execution_count": null,
      "outputs": []
    },
    {
      "cell_type": "markdown",
      "metadata": {
        "id": "KsvLKK7mVUla"
      },
      "source": [
        "build code from scratch"
      ]
    }
  ]
}