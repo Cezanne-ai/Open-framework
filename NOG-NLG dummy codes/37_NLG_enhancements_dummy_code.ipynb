{
  "nbformat": 4,
  "nbformat_minor": 0,
  "metadata": {
    "colab": {
      "name": "37. NLG enhancements dummy code",
      "provenance": [],
      "collapsed_sections": []
    },
    "kernelspec": {
      "name": "python3",
      "display_name": "Python 3"
    },
    "language_info": {
      "name": "python"
    }
  },
  "cells": [
    {
      "cell_type": "markdown",
      "metadata": {
        "id": "AA4-NIz2fx_N"
      },
      "source": [
        "To define the personality of a bot (aka general personas) we can use current custom weights (Li et al. 2016) and configure a bot that has conversational capabilities, duplicating in this way the personality of a human by using advanced AI models and methods. It is, however, a debate if the users find a good use of time in speaking with unknown duplicate-humans (that do not impress in terms of character, but mostly in terms of data/information/topics), especially when our objective is the art of conversation. If we take as arguments two characters from movies: E.T. (an extra-terrestrial) and Robocop (a robot with human background) we can argue that humans prefer to have a conversation with E.T. Why is that? For once, maybe people find it more challenging to learn in a conversation and the perspective of talking with a different type of persona (like non-specialist vs expert) is more appealing. Another possible answer is that E.T. is more defined as a conversational character than Robocop and for that reason a specific persona, like a doctor for a conversation related to medical issues, is more likely to be effective. We will go on this path of building a bot that can adapt to the user’s preferred topic.\n",
        "\n",
        "•\tFormal/informal speech for core inputs;\n",
        "\n",
        "SPCA3 or secondary flow inputs can trigger informal responses/addressing and this can depend on a scoring model.  Once an informal type is triggered, it will not be changed in the interaction with the same user, one of the reasons being the fact that conversation is defined as informal in Webster dictionary and this is one of the objectives of the interaction user-bot. All NOGs (answers/questions, other) related to core inputs will have both formal and informal alternatives in order to adapt to the user vocabulary/addressing. For this task a writer/screenwriter input is needed. Other forms of extracting or generating answers will not be helpful to tackle this issue.\n",
        "\n",
        "•\tPessimistic/optimistic behavior for deep conversational inputs (SPCA4);\n",
        "\n",
        "This enhancement will be addressed in the next pipeline. Depending on the research paper results, these functionalities can be extended also to core inputs, but at this moment, we cannot evaluate the assimilated risk if we let bots impact responses that are coming from expertise field/persons.\n",
        "The bot will offer answers suited with the pessimistic/optimistic indicator computed in the previous pipeline.\n",
        "\n",
        "•\tAvatars – visual state;\n",
        "\n",
        "Besides having a scoring related to informal/formal speech, SPCA3 and secondary flow can change the face reaction of the bot (his avatar). This avatar will replace the bot’s icon every time the scoring changes, letting the user know the bot’s expressions and state of mind. The visual impact can be higher than the one of words in many situations. Avatars will not have an impact on NOG/DPL but can determine the user to take actions if he feels that there is a gap between his state of mind and the bot.\n",
        "\n",
        "•\tBehavioral changes over time in the bot answers;\n",
        "\n",
        "This enhancement will be also addressed in the next pipeline.\n",
        "\n",
        "•\tConfidence understanding;\n",
        "\n",
        "More details regarding this enhancement will be presented in SPCA Answers.\n",
        "\n"
      ]
    },
    {
      "cell_type": "code",
      "metadata": {
        "id": "zOrwoIXIaw9H"
      },
      "source": [
        "# IN: NIU pipelines\n",
        "# OUT: the bot informal reactions"
      ],
      "execution_count": null,
      "outputs": []
    },
    {
      "cell_type": "markdown",
      "metadata": {
        "id": "lHuiN1zGgKwI"
      },
      "source": [
        "Objectives:\n",
        "\n",
        "•\tDetermining if the speech of the user can be regarded as formal or informal;\n",
        "\n",
        "•\tCalculating a scoring to determine the face reaction of the bot (avatar);\n",
        "\n",
        "* More enhancements will be presented in the next pipeline\n",
        "\n",
        "Dependencies: Chitchats/Untrained NIU/Domain validation/ Reaction analysis/EER/AVM\n",
        "\n",
        "Database/ Vocabularies/External needed: \n"
      ]
    },
    {
      "cell_type": "code",
      "metadata": {
        "id": "3wB6xAZhgRYh"
      },
      "source": [
        "# To dos:\n",
        "# 1.\tEach category of chitchat/SPCA3 (10) and of reaction (9) and Untrained (emoji/metaphors/abbreviation/expression/quotes) are allocated a scoring for informal/formal speech and face reaction between 0 and 1.\n",
        "# 2.\tIf scoring for informal/formal becomes more than 1 all the NOG’s for this user will be informal. \n",
        "# 3.\tDisplaying the avatar after calculating the scoring. We will have 6 avatars, consistent with EER categorization (smile, sad, laughing, cool, kiss and blink). If no other SPCA3/secondary flow inputs occur, the former avatar is still displayed. \n",
        "# 4.\tInclude in AVM the scoring for informal/formal and avatar in Column 8 and 9.\n"
      ],
      "execution_count": null,
      "outputs": []
    },
    {
      "cell_type": "markdown",
      "metadata": {
        "id": "IPTSlZHzga6b"
      },
      "source": [
        "Build code from scratch"
      ]
    }
  ]
}