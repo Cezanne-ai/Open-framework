{
  "nbformat": 4,
  "nbformat_minor": 0,
  "metadata": {
    "colab": {
      "name": "38. Self generative model dummy code",
      "provenance": [],
      "collapsed_sections": []
    },
    "kernelspec": {
      "name": "python3",
      "display_name": "Python 3"
    },
    "language_info": {
      "name": "python"
    }
  },
  "cells": [
    {
      "cell_type": "markdown",
      "metadata": {
        "id": "83G0H-f7hrpv"
      },
      "source": [
        "We will go into more details regarding our objectives presented at the beginning of this paper. What is our scope/purpose?\n",
        "\n",
        "•\tBuilding bots with the intention of making money? Bots with commercial/business value?\n",
        "\n",
        "•\tDeploying robots that can write books/songs or can make jokes and create art or ideas based on provided databases? Furthermore, the idea that a robot can go deeper than the code and the databases and become alive can be very attractive.\n",
        "\n",
        "•\tMaking expert robots with knowledge on different fields that can provide advice/education or with whom you can have an interesting conversation?\n",
        "\n",
        "We have chosen the last option, as we believe that everyone has the right to the top legal expertise, best doctor advice, most influential CEOs/ politicians/ models/ influencers and so on. Another argument is our belief that this objective is realistic and we can add characteristics to the bot that are specific to humans. In this layer we will extend our enhancements to build the self-generative part of the bot. But not every user will have access to this part as he needs to check some cumulative boxes:\n",
        "\n",
        "•\tThe conversation must be informal (see more in the next pipeline);\n",
        "\n",
        "•\tThe user must open at least one discussion classified as SPCA4;\n",
        "\n",
        "•\tThe feedback was used previously in the conversation (see Labyrinth model).\n",
        "\n",
        "The principle behind the self-generative bot model is that the external factors/interests/profile and time (as an impact factor) can have influence on the behavior, defined by us as pessimistic/optimistic or trustworthy/doubtful towards the bot’s answers. The bot’s mood/behavior will count in NOG answers generation. It can start to have doubts (for example) in its own database answers if the self-generation model provides the necessary incentives.\n",
        "\n"
      ]
    },
    {
      "cell_type": "code",
      "metadata": {
        "id": "rAqNAaCwhdCm"
      },
      "source": [
        "# IN: criteria for self generative model\n",
        "# OUT: self generation of NOG without implications ovwer the actual answer "
      ],
      "execution_count": null,
      "outputs": []
    },
    {
      "cell_type": "markdown",
      "metadata": {
        "id": "13zXCQEah-Rg"
      },
      "source": [
        "Objectives:\n",
        "\n",
        "•\tAssessing if the user is qualifying for receiving self-generative responses/reactions;\n",
        "\n",
        "•\tDetermining possible external impact on the bot reactions/responses/mood;\n",
        "\n",
        "•\tAssessing how the bot behavior can change over time. The bot answers can be different in time and will be adapted to external factors and his changing behavior;\n",
        "\n",
        "Dependencies: Bot queries/NLG enhancements/Domain classification/NOG Answers/ Reaction analysis/Auto-training/AVM;\n",
        "\n",
        "Database/ Vocabularies/External needed: sites with news/weather/sports + 1 book per month (grounding principles applies);\n"
      ]
    },
    {
      "cell_type": "code",
      "metadata": {
        "id": "VSR5D9rZiFPP"
      },
      "source": [
        "# To dos:\n",
        "# 1.\tAssess criteria for Self-generative model (SPCA4+feedback+informal);\n",
        "# 2.\tChoose the sites that the bot will be assessing daily (news/weather/sports) + books to include in database monthly;\n",
        "# 3.\tAssess the daily news and monthly book by using reaction analysis. Also the weather/sports results will have negative or positive impact on the bot behavior/mood. All this will be quantified and will determine pessimist/optimist behavior. If the result is neutral, then the feedback will impact.\n",
        "# 4.\tThe pessimistic/optimistic indicator will be sent to NOG from books and will impact the answers (the core intents/ answers will not be impacted).\n",
        "# 5.\tA bot behavioral changes indicator will be created by dividing the number of daily optimistic behaviors to the pessimistic ones. This percentage will also be sent to NOG and will have an impact on the answers (using disclaimers to show trust or doubts referring to his own answers). \n",
        "# 6.\tInclude in column 10 and 11 of the AVM the indicators for behavioral changes and pessimistic/optimistic\n"
      ],
      "execution_count": null,
      "outputs": []
    },
    {
      "cell_type": "markdown",
      "metadata": {
        "id": "_uAtIU8XiQxS"
      },
      "source": [
        "Build code from scratch"
      ]
    }
  ]
}